{
 "cells": [
  {
   "cell_type": "markdown",
   "metadata": {
    "collapsed": false
   },
   "source": [
    "# Practice Tasks\n",
    "## Basic Python\n"
   ]
  },
  {
   "cell_type": "markdown",
   "metadata": {
    "collapsed": false
   },
   "source": [
    "### Task 1"
   ]
  },
  {
   "cell_type": "markdown",
   "metadata": {
    "collapsed": false
   },
   "source": [
    "Write a Python program to print the following string in a specific format (see the output).\n",
    "Sample String : \"Twinkle, twinkle, little star, How I wonder what you are! Up above the world so high, Like a diamond in the sky. Twinkle, twinkle, little star, How I wonder what you are\" \n",
    "<br>\n",
    "Output :\n",
    "<br>\n",
    "Twinkle, twinkle, little star,<br>\n",
    "    &nbsp;&nbsp;&nbsp;&nbsp;&nbsp;&nbsp;How I wonder what you are!<br> \n",
    "        &nbsp;&nbsp;&nbsp;&nbsp;&nbsp;&nbsp;&nbsp;&nbsp;&nbsp;&nbsp;&nbsp;&nbsp;&nbsp;&nbsp;Up above the world so high, \t\t\n",
    "\t\t&nbsp;&nbsp;&nbsp;&nbsp;&nbsp;&nbsp;&nbsp;&nbsp;&nbsp;&nbsp;&nbsp;&nbsp;&nbsp;&nbsp;Like a diamond in the sky.<br>\n",
    "Twinkle, twinkle, little star,<br> \n",
    "\t&nbsp;&nbsp;&nbsp;&nbsp;&nbsp;&nbsp;How I wonder what you are<br>"
   ]
  },
  {
   "cell_type": "code",
   "execution_count": 4,
   "metadata": {
    "collapsed": false
   },
   "outputs": [
    {
     "name": "stdout",
     "output_type": "stream",
     "text": [
      "Twinkle, twinkle, little star,\n",
      "\tHow I wonder what you are!\n",
      "\t\tUp above the world so high, \t\tLike a diamond in the sky.\n",
      "Twinkle, twinkle, little star,\n",
      "\tHow I wonder what you are\n"
     ]
    }
   ],
   "source": [
    "print(\"Twinkle, twinkle, little star,\\n\\tHow I wonder what you are!\\n\\t\\tUp above the world so high, \\t\\tLike a diamond in the sky.\\nTwinkle, twinkle, little star,\\n\\tHow I wonder what you are\")"
   ]
  },
  {
   "cell_type": "markdown",
   "metadata": {
    "collapsed": false
   },
   "source": [
    "### Task 2"
   ]
  },
  {
   "cell_type": "markdown",
   "metadata": {
    "collapsed": false
   },
   "source": [
    " Write a Python program which accepts the user's first and last name and print them in reverse order with a space between them."
   ]
  },
  {
   "cell_type": "code",
   "execution_count": 6,
   "metadata": {
    "cocalc": {
     "outputs": {
      "0": {
       "name": "input",
       "opts": {
        "password": false,
        "prompt": "Enter your firstname: "
       },
       "output_type": "stream",
       "value": "Muhammad"
      },
      "1": {
       "name": "input",
       "opts": {
        "password": false,
        "prompt": "Enter your lastname: "
       },
       "output_type": "stream",
       "value": "Uzair"
      }
     }
    },
    "collapsed": false
   },
   "outputs": [
    {
     "name": "stdout",
     "output_type": "stream",
     "text": "Enter your firstname:  Muhammad"
    },
    {
     "name": "stdout",
     "output_type": "stream",
     "text": "Enter your lastname:  Uzair"
    },
    {
     "name": "stdout",
     "output_type": "stream",
     "text": [
      "dammahuM riazU\n"
     ]
    }
   ],
   "source": [
    "first_name = input(\"Enter your firstname: \")\n",
    "last_name = input(\"Enter your lastname: \")\n",
    "print(first_name[::-1],last_name[::-1])"
   ]
  },
  {
   "cell_type": "markdown",
   "metadata": {
    "collapsed": false
   },
   "source": [
    "### Task 3"
   ]
  },
  {
   "cell_type": "markdown",
   "metadata": {
    "collapsed": false
   },
   "source": [
    "Write a Python program to accept a filename from the user and print the extension of that."
   ]
  },
  {
   "cell_type": "code",
   "execution_count": 8,
   "metadata": {
    "cocalc": {
     "outputs": {
      "0": {
       "name": "input",
       "opts": {
        "password": false,
        "prompt": "Enter a filename: "
       },
       "output_type": "stream",
       "value": "task3.py"
      }
     }
    },
    "collapsed": false
   },
   "outputs": [
    {
     "name": "stdout",
     "output_type": "stream",
     "text": "Enter a filename:  task3.py"
    },
    {
     "name": "stdout",
     "output_type": "stream",
     "text": [
      "py\n"
     ]
    }
   ],
   "source": [
    "file_name = input(\"Enter a filename: \")\n",
    "extension = file_name.split(\".\")\n",
    "print(extension[1])"
   ]
  },
  {
   "cell_type": "markdown",
   "metadata": {
    "collapsed": false
   },
   "source": [
    "### Task 4"
   ]
  },
  {
   "cell_type": "markdown",
   "metadata": {
    "collapsed": false
   },
   "source": [
    "Write a Python program which accepts a sequence of comma-separated numbers from user and generate a list and a tuple with those numbers."
   ]
  },
  {
   "cell_type": "code",
   "execution_count": 22,
   "metadata": {
    "cocalc": {
     "outputs": {
      "0": {
       "name": "input",
       "opts": {
        "password": false,
        "prompt": "Input comma seprated numbers : "
       },
       "output_type": "stream",
       "value": "1,2,3,4,5,6,7"
      }
     }
    },
    "collapsed": false
   },
   "outputs": [
    {
     "name": "stdout",
     "output_type": "stream",
     "text": "Input comma seprated numbers :  1,2,3,4,5,6,7"
    },
    {
     "name": "stdout",
     "output_type": "stream",
     "text": [
      "List :  [1, 2, 3, 4, 5, 6, 7]\n",
      "Tuple :  [1, 2, 3, 4, 5, 6, 7]\n"
     ]
    }
   ],
   "source": [
    "numbers = input(\"Input comma seprated numbers : \")\n",
    "list = numbers.split(\",\")\n",
    "for i in range(0, len(list)): \n",
    "    list[i] = int(list[i]) \n",
    "tuple = numbers.split(\",\")\n",
    "for i in range(0, len(tuple)): \n",
    "    tuple[i] = int(tuple[i])\n",
    "print('List : ',list)\n",
    "print('Tuple : ',tuple)"
   ]
  },
  {
   "cell_type": "markdown",
   "metadata": {
    "collapsed": false
   },
   "source": [
    "### Task 5"
   ]
  },
  {
   "cell_type": "markdown",
   "metadata": {
    "collapsed": false
   },
   "source": [
    "Write a Python program to display the first and last colors from the following list.\n",
    "<br>color_list = [\"Red\",\"Green\",\"White\" ,\"Black\"]"
   ]
  },
  {
   "cell_type": "code",
   "execution_count": 10,
   "metadata": {
    "collapsed": false
   },
   "outputs": [
    {
     "name": "stdout",
     "output_type": "stream",
     "text": [
      "First color: Red \n",
      "Last color: Black\n"
     ]
    }
   ],
   "source": [
    "color_list = [\"Red\",\"Green\",\"White\",\"Black\"]\n",
    "print(\"First color:\",color_list[0],\"\\nLast color:\",color_list[-1])"
   ]
  },
  {
   "cell_type": "markdown",
   "metadata": {
    "collapsed": false
   },
   "source": [
    "### Task 6"
   ]
  },
  {
   "cell_type": "markdown",
   "metadata": {
    "collapsed": false
   },
   "source": [
    "Write a Python program that accepts an integer (n) and computes the value of n+nn+nnn."
   ]
  },
  {
   "cell_type": "code",
   "execution_count": 25,
   "metadata": {
    "cocalc": {
     "outputs": {
      "0": {
       "name": "input",
       "opts": {
        "password": false,
        "prompt": "Enter an integer: "
       },
       "output_type": "stream",
       "value": "5"
      }
     }
    },
    "collapsed": false
   },
   "outputs": [
    {
     "name": "stdout",
     "output_type": "stream",
     "text": "Enter an integer:  5"
    },
    {
     "name": "stdout",
     "output_type": "stream",
     "text": [
      "[5, 55, 555]\n",
      "Value:  615\n"
     ]
    }
   ],
   "source": [
    "n = int(input(\"Enter an integer: \"))\n",
    "double = (n*10) + n\n",
    "triple = (n*100) + double\n",
    "list = [n,double,triple]\n",
    "value = n + double + triple\n",
    "print(list)\n",
    "print(\"Value: \",value)"
   ]
  },
  {
   "cell_type": "markdown",
   "metadata": {
    "collapsed": false
   },
   "source": [
    "### Task 7"
   ]
  },
  {
   "cell_type": "markdown",
   "metadata": {
    "collapsed": false
   },
   "source": [
    "Write a Python program that accepts an integer (n) and computes the value of n+nn+nnn in reverse"
   ]
  },
  {
   "cell_type": "code",
   "execution_count": 30,
   "metadata": {
    "cocalc": {
     "outputs": {
      "0": {
       "name": "input",
       "opts": {
        "password": false,
        "prompt": "Enter a three digit number of same digits: "
       },
       "output_type": "stream",
       "value": "555"
      }
     }
    },
    "collapsed": false
   },
   "outputs": [
    {
     "name": "stdout",
     "output_type": "stream",
     "text": "Enter a three digit number of same digits:  555"
    },
    {
     "name": "stdout",
     "output_type": "stream",
     "text": [
      "[555, 55, 5]\n",
      "516\n"
     ]
    }
   ],
   "source": [
    "n = int(input(\"Enter a three digit number of same digits: \"))\n",
    "double = n // 10\n",
    "single = n // 100\n",
    "list = [n,double,single]\n",
    "value = n + double + single\n",
    "rev = 0\n",
    "while(value > 0):\n",
    "    last_digit = value % 10\n",
    "    rev = rev + last_digit\n",
    "    rev *= 10\n",
    "    value = value // 10\n",
    "rev = rev // 10\n",
    "print(list)\n",
    "print(rev)"
   ]
  },
  {
   "cell_type": "markdown",
   "metadata": {
    "collapsed": false
   },
   "source": [
    "### Task 8"
   ]
  },
  {
   "cell_type": "markdown",
   "metadata": {
    "collapsed": false
   },
   "source": [
    "Write a Python function that takes a list of words and returns the length of the longest one."
   ]
  },
  {
   "cell_type": "code",
   "execution_count": 16,
   "metadata": {
    "collapsed": false
   },
   "outputs": [
    {
     "name": "stdout",
     "output_type": "stream",
     "text": [
      "Length of longest word: 8\n"
     ]
    }
   ],
   "source": [
    "def longest_length(listOfWords):\n",
    "    max_length = 0\n",
    "    for word in listOfWords:\n",
    "        if(len(word) > max_length):\n",
    "            max_length = len(word)\n",
    "    return max_length\n",
    "listOfWords = [\"hello\",\"Suddenly\",\"Sarcasm\",\"friendly\"]\n",
    "max_length = longest_length(listOfWords)\n",
    "print(\"Length of longest word:\",max_length)"
   ]
  },
  {
   "cell_type": "markdown",
   "metadata": {
    "collapsed": false
   },
   "source": [
    "### Task 9"
   ]
  },
  {
   "cell_type": "markdown",
   "metadata": {
    "collapsed": false
   },
   "source": [
    " Write a Python script to generate and print a dictionary that contains a number (between 1 and n) in the form (x, x*x).\n",
    "Sample Dictionary ( n = 5) :\n",
    "Expected Output : {1: 1, 2: 4, 3: 9, 4: 16, 5: 25}"
   ]
  },
  {
   "cell_type": "code",
   "execution_count": 31,
   "metadata": {
    "cocalc": {
     "outputs": {
      "0": {
       "name": "input",
       "opts": {
        "password": false,
        "prompt": "Input a number "
       },
       "output_type": "stream",
       "value": "5"
      }
     }
    },
    "collapsed": false
   },
   "outputs": [
    {
     "name": "stdout",
     "output_type": "stream",
     "text": "Input a number  5"
    },
    {
     "name": "stdout",
     "output_type": "stream",
     "text": [
      "{1: 1, 2: 4, 3: 9, 4: 16, 5: 25}\n"
     ]
    }
   ],
   "source": [
    "n=int(input(\"Input a number \"))\n",
    "dictionary = dict()\n",
    "\n",
    "for i in range(1,n+1):\n",
    "    dictionary[i]=i*i\n",
    "\n",
    "print(dictionary)"
   ]
  },
  {
   "cell_type": "markdown",
   "metadata": {
    "collapsed": false
   },
   "source": [
    "### Task 10"
   ]
  },
  {
   "cell_type": "markdown",
   "metadata": {
    "collapsed": false
   },
   "source": [
    "Consider the following output as shown:\n",
    "<br>1\n",
    "<br>2 3\n",
    "<br>4 5 6\n",
    "<br>7 8 9 10\n",
    "<br>11 12 13 14 15\n",
    "<br>16 17 18 19 20 21\n",
    "<br>22 23 24 25 26 27 28\n",
    "<br>29 30 31 32 33 34 35 36\n",
    "<br>37 38 39 40 41 42 43 44 45\n",
    "<br>46 47 48 49 50 51 52 53 54 55\n"
   ]
  },
  {
   "cell_type": "code",
   "execution_count": 39,
   "metadata": {
    "cocalc": {
     "outputs": {
      "0": {
       "name": "input",
       "opts": {
        "password": false,
        "prompt": "Enter a number: "
       },
       "output_type": "stream",
       "value": "10"
      }
     }
    },
    "collapsed": false
   },
   "outputs": [
    {
     "name": "stdout",
     "output_type": "stream",
     "text": "Enter a number:  10"
    },
    {
     "name": "stdout",
     "output_type": "stream",
     "text": [
      "1 \n",
      "2 3 \n",
      "4 5 6 \n",
      "7 8 9 10 \n",
      "11 12 13 14 15 \n",
      "16 17 18 19 20 21 \n",
      "22 23 24 25 26 27 28 \n",
      "29 30 31 32 33 34 35 36 \n",
      "37 38 39 40 41 42 43 44 45 \n",
      "46 47 48 49 50 51 52 53 54 55 \n"
     ]
    }
   ],
   "source": [
    "n = int(input(\"Enter a number: \"))\n",
    "num = 1\n",
    "for i in range(0,n):\n",
    "    for j in range(0,i+1):\n",
    "        print(num,\"\",end=\"\")\n",
    "        num += 1\n",
    "    print(end=\"\\n\")"
   ]
  },
  {
   "cell_type": "markdown",
   "metadata": {
    "collapsed": false
   },
   "source": [
    "### Task 11"
   ]
  },
  {
   "cell_type": "markdown",
   "metadata": {
    "collapsed": false
   },
   "source": [
    "Write a Python program to print first alphabet pattern of your name using loop."
   ]
  },
  {
   "cell_type": "code",
   "execution_count": 36,
   "metadata": {
    "collapsed": false
   },
   "outputs": [
    {
     "name": "stdout",
     "output_type": "stream",
     "text": [
      "*          *\n",
      "*          *\n",
      "*          *\n",
      "*          *\n",
      "*          *\n",
      "************\n"
     ]
    }
   ],
   "source": [
    "for i in range(0,5):\n",
    "    print(\"*          *\")"
   ]
  },
  {
   "cell_type": "markdown",
   "metadata": {
    "collapsed": false
   },
   "source": [
    "### Task 12"
   ]
  },
  {
   "cell_type": "markdown",
   "metadata": {
    "collapsed": false
   },
   "source": [
    "Write a Python script to concatenate following dictionaries to create a new one.\n",
    "<br>Sample Dictionary :\n",
    "<br>dic1={1:10, 2:20}\n",
    "<br>dic2={3:30, 4:40}\n",
    "<br>dic3={5:50,6:60}\n",
    "<br>Expected Result : {1: 10, 2: 20, 3: 30, 4: 40, 5: 50, 6: 60}"
   ]
  },
  {
   "cell_type": "code",
   "execution_count": 42,
   "metadata": {
    "collapsed": false
   },
   "outputs": [
    {
     "name": "stdout",
     "output_type": "stream",
     "text": [
      "{1: 10, 2: 20, 3: 30, 4: 40, 5: 50, 6: 60}\n"
     ]
    }
   ],
   "source": [
    "dic1={1:10, 2:20}\n",
    "dic2={3:30, 4:40}\n",
    "dic3={5:50,6:60}\n",
    "final = {}\n",
    "for i in (dic1, dic2, dic3):\n",
    "    final.update(i)\n",
    "print(final)"
   ]
  },
  {
   "cell_type": "markdown",
   "metadata": {
    "collapsed": false
   },
   "source": [
    "## Functions:"
   ]
  },
  {
   "cell_type": "markdown",
   "metadata": {
    "collapsed": false
   },
   "source": [
    "### Task 13\n",
    "cube(n), which takes in a number and returns its cube. For example, cube(3) => 27."
   ]
  },
  {
   "cell_type": "code",
   "execution_count": 43,
   "metadata": {
    "cocalc": {
     "outputs": {
      "0": {
       "name": "input",
       "opts": {
        "password": false,
        "prompt": "Enter a number: "
       },
       "output_type": "stream",
       "value": "3"
      }
     }
    },
    "collapsed": false
   },
   "outputs": [
    {
     "name": "stdout",
     "output_type": "stream",
     "text": "Enter a number:  3"
    },
    {
     "name": "stdout",
     "output_type": "stream",
     "text": [
      "Cube:  27\n"
     ]
    }
   ],
   "source": [
    "def cube(n):\n",
    "    return n*n*n\n",
    "num = int(input(\"Enter a number: \"))\n",
    "print(\"Cube: \",cube(num))"
   ]
  },
  {
   "cell_type": "markdown",
   "metadata": {
    "collapsed": false
   },
   "source": [
    "### Task 14\n",
    "factorial(n), which takes in a non-negative integer n and returns n!, which is the product of the integers from 1 to n. (0! = 1 by definition.)"
   ]
  },
  {
   "cell_type": "code",
   "execution_count": 44,
   "metadata": {
    "cocalc": {
     "outputs": {
      "0": {
       "name": "input",
       "opts": {
        "password": false,
        "prompt": "Enter a number: "
       },
       "output_type": "stream",
       "value": "5"
      }
     }
    },
    "collapsed": false
   },
   "outputs": [
    {
     "name": "stdout",
     "output_type": "stream",
     "text": "Enter a number:  5"
    },
    {
     "name": "stdout",
     "output_type": "stream",
     "text": [
      "Factorial: 120\n"
     ]
    }
   ],
   "source": [
    "def factorial(n):\n",
    "    res = 1\n",
    "    if n < 0:\n",
    "       print(\"factorial does not exist for negative numbers\")\n",
    "    elif n == 0:\n",
    "       return 1\n",
    "    else:\n",
    "       for i in range(1,n + 1):\n",
    "           res = res*i\n",
    "    return res\n",
    "n = int(input(\"Enter a number: \"))\n",
    "print(\"Factorial:\",factorial(n))"
   ]
  },
  {
   "cell_type": "markdown",
   "metadata": {
    "collapsed": false
   },
   "source": [
    "### Task 15\n",
    "count_pattern(pattern lst), which counts the number of times a certain pattern of symbols appears in a list, including overlaps. So count_pattern( ('a', 'b'), ('a','b', 'c', 'e', 'b', 'a', 'b', 'f')) should return 2, and count_pattern(('a', 'b', 'a'), ('g', 'a', 'b', 'a', 'b', 'a','b', 'a')) should return 3."
   ]
  },
  {
   "cell_type": "code",
   "execution_count": 4,
   "metadata": {
    "collapsed": false
   },
   "outputs": [
    {
     "name": "stdout",
     "output_type": "stream",
     "text": [
      "Count:  0\n"
     ]
    }
   ],
   "source": [
    "def count_pattern(pattern, list):\n",
    "    count = 0\n",
    "    flag = 0\n",
    "    index = 0\n",
    "    for i in range(0,len(list)):\n",
    "       flag = 0\n",
    "       for j in range(0,len(pattern)):\n",
    "           index = i\n",
    "           if(pattern[j] != list[index]):\n",
    "               flag = 1\n",
    "               break\n",
    "           else:\n",
    "               index += 1\n",
    "       if(flag == 0):\n",
    "          count += 1\n",
    "    return count\n",
    "\n",
    "pattern = ('a','b')\n",
    "list = ('a','b','c','e','b','a','b','f')\n",
    "print(\"Count: \",count_pattern(pattern,list))"
   ]
  },
  {
   "cell_type": "markdown",
   "metadata": {
    "collapsed": false
   },
   "source": [
    "### Task 16\n",
    "Write a python function to print the multiplication table for the given number?"
   ]
  },
  {
   "cell_type": "code",
   "execution_count": 49,
   "metadata": {
    "cocalc": {
     "outputs": {
      "0": {
       "name": "input",
       "opts": {
        "password": false,
        "prompt": "Enter a number: "
       },
       "output_type": "stream",
       "value": "3"
      }
     }
    },
    "collapsed": false
   },
   "outputs": [
    {
     "name": "stdout",
     "output_type": "stream",
     "text": "Enter a number:  3"
    },
    {
     "name": "stdout",
     "output_type": "stream",
     "text": [
      "3 * 1 = 3\n",
      "3 * 2 = 6\n",
      "3 * 3 = 9\n",
      "3 * 4 = 12\n",
      "3 * 5 = 15\n",
      "3 * 6 = 18\n",
      "3 * 7 = 21\n",
      "3 * 8 = 24\n",
      "3 * 9 = 27\n",
      "3 * 10 = 30\n"
     ]
    }
   ],
   "source": [
    "def table(n):\n",
    "    for i in range(1,11):\n",
    "        print(n,\"*\",i,\"=\",n*i)\n",
    "num = int(input(\"Enter a number: \"))\n",
    "table(num)"
   ]
  },
  {
   "cell_type": "markdown",
   "metadata": {
    "collapsed": false
   },
   "source": [
    "### Task 17\n",
    "Write a python program to implement Simple Calculator program with function to every operator? (+, -, / ,*)"
   ]
  },
  {
   "cell_type": "code",
   "execution_count": 50,
   "metadata": {
    "cocalc": {
     "outputs": {
      "0": {
       "name": "input",
       "opts": {
        "password": false,
        "prompt": "Enter first number: "
       },
       "output_type": "stream",
       "value": "2"
      },
      "1": {
       "name": "input",
       "opts": {
        "password": false,
        "prompt": "Enter operator number: "
       },
       "output_type": "stream",
       "value": "+"
      },
      "2": {
       "name": "input",
       "opts": {
        "password": false,
        "prompt": "Enter second number: "
       },
       "output_type": "stream",
       "value": "3"
      }
     }
    },
    "collapsed": false
   },
   "outputs": [
    {
     "name": "stdout",
     "output_type": "stream",
     "text": "Enter first number:  2"
    },
    {
     "name": "stdout",
     "output_type": "stream",
     "text": "Enter operator number:  +"
    },
    {
     "name": "stdout",
     "output_type": "stream",
     "text": "Enter second number:  3"
    },
    {
     "name": "stdout",
     "output_type": "stream",
     "text": [
      "Result: 5\n"
     ]
    }
   ],
   "source": [
    "def add(a,b):\n",
    "    print(\"Result:\",a+b)\n",
    "def sub(a,b):\n",
    "    print(\"Result:\",a-b)\n",
    "def mul(a,b):\n",
    "    print(\"Result:\",a*b)\n",
    "def div(a,b):\n",
    "    print(\"Result:\",a/b)\n",
    "a = int(input(\"Enter first number: \"))\n",
    "op = input(\"Enter operator number: \")\n",
    "b = int(input(\"Enter second number: \"))\n",
    "if(op == \"+\"):\n",
    "    add(a,b)\n",
    "elif(op == \"-\"):\n",
    "    sub(a,b)\n",
    "elif(op == \"*\"):\n",
    "    mul(a,b)\n",
    "else:\n",
    "    div(a,b)"
   ]
  },
  {
   "cell_type": "markdown",
   "metadata": {
    "collapsed": false
   },
   "source": [
    "## Lambda:"
   ]
  },
  {
   "cell_type": "markdown",
   "metadata": {
    "collapsed": false
   },
   "source": [
    "### Task 18\n",
    "Write a Python program to find that whether the given string is start with the given character using Lambda?"
   ]
  },
  {
   "cell_type": "code",
   "execution_count": 52,
   "metadata": {
    "cocalc": {
     "outputs": {
      "0": {
       "name": "input",
       "opts": {
        "password": false,
        "prompt": "Enter a string: "
       },
       "output_type": "stream",
       "value": "uzair"
      },
      "1": {
       "name": "input",
       "opts": {
        "password": false,
        "prompt": "Enter a character: "
       },
       "output_type": "stream",
       "value": "u"
      }
     }
    },
    "collapsed": false
   },
   "outputs": [
    {
     "name": "stdout",
     "output_type": "stream",
     "text": "Enter a string:  uzair"
    },
    {
     "name": "stdout",
     "output_type": "stream",
     "text": "Enter a character:  u"
    },
    {
     "name": "stdout",
     "output_type": "stream",
     "text": [
      "True\n"
     ]
    }
   ],
   "source": [
    "inputStr = input(\"Enter a string: \")\n",
    "char = input(\"Enter a character: \")\n",
    "starts_with = lambda x,y: True if x.startswith(y) else False\n",
    "print(starts_with(inputStr,char))"
   ]
  },
  {
   "cell_type": "markdown",
   "metadata": {
    "collapsed": false
   },
   "source": [
    "### Task 19\n",
    "Write a Python program to seperate the digits of the number using Lambda?"
   ]
  },
  {
   "cell_type": "code",
   "execution_count": 2,
   "metadata": {
    "cocalc": {
     "outputs": {
      "0": {
       "name": "input",
       "opts": {
        "password": false,
        "prompt": "Enter a number: "
       },
       "output_type": "stream"
      }
     }
    },
    "collapsed": false
   },
   "outputs": [
    {
     "name": "stdout",
     "output_type": "stream",
     "text": "Enter a number:  "
    }
   ],
   "source": [
    "digits = lambda number: list(number)\n",
    "number = input(\"Enter a number: \")\n",
    "print(digits(number))"
   ]
  },
  {
   "cell_type": "markdown",
   "metadata": {
    "collapsed": false
   },
   "source": [
    "### Task 20\n",
    "Write a Python program to find the values of length six in a given list using Lambda?"
   ]
  },
  {
   "cell_type": "code",
   "execution_count": 11,
   "metadata": {
    "collapsed": false
   },
   "outputs": [
    {
     "name": "stdout",
     "output_type": "stream",
     "text": [
      "yooooo\n",
      "ucpsts\n"
     ]
    }
   ],
   "source": [
    "list = ['suddenly', 'Hello', 'World', 'yooooo', 'ucpsts']\n",
    "values = filter(lambda v: v if len(v) == 6 else '', list)\n",
    "for v in values:\n",
    "  print(v)"
   ]
  },
  {
   "cell_type": "markdown",
   "metadata": {
    "collapsed": false
   },
   "source": [
    "### Task 21\n",
    "Write a Python program to find the even and odd numbers in a given array of integers using Lambda?"
   ]
  },
  {
   "cell_type": "code",
   "execution_count": 19,
   "metadata": {
    "collapsed": false
   },
   "outputs": [
    {
     "name": "stdout",
     "output_type": "stream",
     "text": [
      "Original array of integers: [1, 2, 3, 4, 5, 6, 7, 8, 9, 10]\n",
      "Even numbers from the array: [2, 4, 6, 8, 10]\n",
      "Odd numbers from the array: [1, 3, 5, 7, 9]\n"
     ]
    }
   ],
   "source": [
    "del list\n",
    "arr = [1, 2, 3, 4, 5, 6, 7, 8, 9, 10]\n",
    "print(\"Original array of integers:\",arr)\n",
    "even_nums = list(filter(lambda x: x % 2 == 0, arr))\n",
    "print(\"Even numbers from the array:\",even_nums)\n",
    "odd_nums = list(filter(lambda x: x % 2 != 0, arr))\n",
    "print(\"Odd numbers from the array:\",odd_nums)"
   ]
  },
  {
   "cell_type": "markdown",
   "metadata": {
    "collapsed": false
   },
   "source": [
    "## Classes:"
   ]
  },
  {
   "cell_type": "markdown",
   "metadata": {
    "collapsed": false
   },
   "source": [
    "### Task 22\n",
    "Design and implement a class named Car that have private attributes name, number of doors and fuel economy. You have to implement the default constructor along with setters getters. Interface will perform required tasks and display the information about two Cars.\n",
    "\n",
    "<b>Input:</b>\n",
    "<br>\n",
    "Name of the Car: Chevrolet<br>\n",
    "Total Number of Doors: 4<br>\n",
    "Fuel Economy of the Car (Km/Liter): 11.5<br>"
   ]
  },
  {
   "cell_type": "code",
   "execution_count": 0,
   "metadata": {
    "collapsed": false
   },
   "outputs": [
   ],
   "source": [
    "class Car:\n",
    "    def __init__(self):\n",
    "        self.name = \"\"\n",
    "        self.doors = 0\n",
    "        self.fuel = 0.0\n",
    "    def __init__(self,name,doors,fuel):\n",
    "        self.name = name\n",
    "        self.doors = doors\n",
    "        self.fuel = fuel\n",
    "    def setName(self,name):\n",
    "        self.name = name\n",
    "    def setDoors(self,doors):\n",
    "        self.doors = doors\n",
    "    def setFuel(self,fuel):\n",
    "        self.fuel = fuel\n",
    "    def getName(self):\n",
    "        return self.name\n",
    "    def getDoors(self):\n",
    "        return self.doors\n",
    "    def getFuel(self):\n",
    "        return fuel\n",
    "    def display(self):\n",
    "        print(\"Name of the car:\",self.name)\n",
    "        print(\"Total Number of Doors:\",self.doors)\n",
    "        print(\"Fuel Economy of the Car (km/litre):\",self.fuel)\n",
    "obj = Car(\"mehran\",4,11.5)\n",
    "obj.display()"
   ]
  },
  {
   "cell_type": "markdown",
   "metadata": {
    "collapsed": false
   },
   "source": [
    "### Task 23\n",
    "Design and implement a class named Student that have private attributes name, id, cell# and cgpa. You have to implement the default constructor along with setters getters. Interface will perform required tasks and display the information about three Students including their grade.\n",
    "\n",
    "<br><b>Note:</b> The grade will be awarded to students according to their final cgpa.\n",
    "\n",
    "<b>Input:</b>\n",
    "<br>Name of the Student: Adeel Anwar\n",
    "<br>Id of the Student: L1F12BSCS2099\n",
    "<br>Cell# of the Student: 03009999999\n",
    "<br>CGPA of the Student: 3"
   ]
  },
  {
   "cell_type": "code",
   "execution_count": 3,
   "metadata": {
    "collapsed": false
   },
   "outputs": [
    {
     "name": "stdout",
     "output_type": "stream",
     "text": [
      "Name of the Student: Uzair\n",
      "ID of the Student: 1\n",
      "Cell# of the Student: 123456789\n",
      "CGPA of the Student: 3.57\n",
      "Grade of the Student: B+\n",
      "Name of the Student: Hamza\n",
      "ID of the Student: 2\n",
      "Cell# of the Student: 02482426429\n",
      "CGPA of the Student: 2.67\n",
      "Grade of the Student: B-\n",
      "Name of the Student: Ahmed\n",
      "ID of the Student: 3\n",
      "Cell# of the Student: 2335353243\n",
      "CGPA of the Student: 3.2\n",
      "Grade of the Student: B\n"
     ]
    }
   ],
   "source": [
    "class Student:\n",
    "    def __init__(self):\n",
    "        self.name = \"\"\n",
    "        self.id = 0\n",
    "        self.cell = \"\"\n",
    "        self.cgpa = 0.0\n",
    "    def __init__(self,name,id,cell,cgpa):\n",
    "        self.name = name\n",
    "        self.id = id\n",
    "        self.cell = cell\n",
    "        self.cgpa = cgpa\n",
    "    def setName(self,name):\n",
    "        self.name = name\n",
    "    def setId(self,id):\n",
    "        self.id = id\n",
    "    def setCell(self,cell):\n",
    "        self.cell = cell\n",
    "    def setCgpa(self,cgpa):\n",
    "        self.cgpa= cgpa\n",
    "    def getName(self):\n",
    "        return self.name\n",
    "    def getId(self):\n",
    "        return self.id\n",
    "    def getCell(self):\n",
    "        return cell\n",
    "    def getCgpa(self):\n",
    "        return self.cgpa\n",
    "    def display(self):\n",
    "        print(\"Name of the Student:\",self.name)\n",
    "        print(\"ID of the Student:\",self.id)\n",
    "        print(\"Cell# of the Student:\",self.cell)\n",
    "        print(\"CGPA of the Student:\",self.cgpa)\n",
    "        if(self.cgpa == 4.0):\n",
    "            print(\"Grade of the Student: A\")\n",
    "        elif(self.cgpa >= 3.67 and self.cgpa < 4.0):\n",
    "            print(\"Grade of the Student: A-\")\n",
    "        elif(self.cgpa >= 3.33 and self.cgpa < 3.67):\n",
    "            print(\"Grade of the Student: B+\")\n",
    "        elif(self.cgpa >= 3.0 and self.cgpa < 3.33):\n",
    "            print(\"Grade of the Student: B\")\n",
    "        elif(self.cgpa >= 2.67 and self.cgpa < 3.0):\n",
    "            print(\"Grade of the Student: B-\")\n",
    "        elif(self.cgpa >= 2.33 and self.cgpa < 2.67):\n",
    "            print(\"Grade of the Student: C+\")\n",
    "        elif(self.cgpa >= 2.0 and self.cgpa < 2.33):\n",
    "            print(\"Grade of the Student: C\")\n",
    "        elif(self.cgpa >= 1.67 and self.cgpa < 2.0):\n",
    "            print(\"Grade of the Student: C-\")\n",
    "        elif(self.cgpa >= 1.33 and self.cgpa < 1.67):\n",
    "            print(\"Grade of the Student: D+\")\n",
    "        elif(self.cgpa >= 1.0 and self.cgpa < 1.33):\n",
    "            print(\"Grade of the Student: D\")\n",
    "        else:\n",
    "            print(\"Grade of the Student: F\")\n",
    "st1 = Student(\"Uzair\",1,\"123456789\",3.57)\n",
    "st2 = Student(\"Hamza\",2,\"02482426429\",2.67)\n",
    "st3 = Student(\"Ahmed\",3,\"2335353243\",3.2)\n",
    "st1.display()\n",
    "st2.display()\n",
    "st3.display()"
   ]
  },
  {
   "cell_type": "markdown",
   "metadata": {
    "collapsed": false
   },
   "source": [
    "### Task 24\n",
    "Next bridge software house Lahore requires an application that calculates employee’s increment on the given criteria. For the purpose software house wants his software engineer to design the application using object oriented approach. The class “NextBridge” is required to create with attributes and functions as mentioned below:\n",
    "\n",
    "<br>>name\n",
    "<br>>address\n",
    "<br>>phoneNumber \n",
    "<br>>level//fresh,junior,senior\n",
    "<br>>experience in years\n",
    "\n",
    "Implement the class having a parametrized constructor along with setters and getters. Also define a function that can calculate increment criteria based on the table below:\n",
    "\n",
    "<br>Experience&nbsp;&nbsp;&nbsp;&nbsp;Increment\n",
    "<br>0&nbsp;&nbsp;&nbsp;&nbsp;&nbsp;&nbsp;&nbsp;&nbsp;&nbsp;&nbsp;&nbsp;&nbsp;&nbsp;&nbsp;&nbsp;&nbsp;&nbsp;&nbsp;&nbsp;&nbsp;&nbsp;&nbsp;&nbsp;&nbsp;0%\n",
    "<br>1-2&nbsp;&nbsp;&nbsp;&nbsp;&nbsp;&nbsp;&nbsp;&nbsp;&nbsp;&nbsp;&nbsp;&nbsp;&nbsp;&nbsp;&nbsp;&nbsp;&nbsp;&nbsp;&nbsp;&nbsp;10%\n",
    "<br>2-5&nbsp;&nbsp;&nbsp;&nbsp;&nbsp;&nbsp;&nbsp;&nbsp;&nbsp;&nbsp;&nbsp;&nbsp;&nbsp;&nbsp;&nbsp;&nbsp;&nbsp;&nbsp;&nbsp;&nbsp;25%\n",
    "<br>5 to onward&nbsp;&nbsp;&nbsp;&nbsp;&nbsp;&nbsp;45%\n"
   ]
  },
  {
   "cell_type": "code",
   "execution_count": 4,
   "metadata": {
    "collapsed": false
   },
   "outputs": [
    {
     "name": "stdout",
     "output_type": "stream",
     "text": [
      "Name: Uzair\n",
      "Address: JoharTown UCP\n",
      "Phone Number: 1234567\n",
      "Experience Level: Fresh\n",
      "Experience: 6 years\n",
      "Increment will be 45%\n"
     ]
    }
   ],
   "source": [
    "class NextBridge:\n",
    "    def __init__(self,name,address,phoneNumber,level,experience):\n",
    "        self.name = name\n",
    "        self.address = address\n",
    "        self.phoneNumber = phoneNumber\n",
    "        self.level = level\n",
    "        self.experience = experience\n",
    "    def setName(self,name):\n",
    "        self.name = name\n",
    "    def setAddress(self,address):\n",
    "        self.address = address\n",
    "    def setPhoneNumber(self,phoneNumber):\n",
    "        self.phoneNumber = phoneNumber\n",
    "    def setLevel(self,level):\n",
    "        self.level = level\n",
    "    def setExperience(self,experience):\n",
    "        self.experience = experience\n",
    "    def getName(self):\n",
    "        return self.name\n",
    "    def getAddress(self):\n",
    "        return self.address\n",
    "    def getPhoneNumber(self):\n",
    "        return self.phoneNumber\n",
    "    def getLevel(self):\n",
    "        return self.level\n",
    "    def getExperience(self):\n",
    "        return self.experience\n",
    "    def criteria(self):\n",
    "        if(self.experience == 0):\n",
    "            print(\"Increment will be 0%\")\n",
    "        elif(self.experience >= 1 and self.experience <= 2):\n",
    "            print(\"Increment will be 10%\")\n",
    "        elif(self.experience >= 2 and self.experience <= 5):\n",
    "            print(\"Increment will be 25%\")\n",
    "        elif(self.experience >= 5):\n",
    "            print(\"Increment will be 45%\")\n",
    "    def display(self):\n",
    "        print(\"Name:\",self.name)\n",
    "        print(\"Address:\",self.address)\n",
    "        print(\"Phone Number:\",self.phoneNumber)\n",
    "        print(\"Experience Level:\",self.level)\n",
    "        print(\"Experience:\",self.experience,\"years\")\n",
    "emp = NextBridge(\"Uzair\",\"JoharTown UCP\",\"1234567\",\"Fresh\",6)\n",
    "emp.display()\n",
    "emp.criteria()"
   ]
  },
  {
   "cell_type": "code",
   "execution_count": 0,
   "metadata": {
    "collapsed": false
   },
   "outputs": [
   ],
   "source": [
   ]
  }
 ],
 "metadata": {
  "kernelspec": {
   "display_name": "Python 3 (system-wide)",
   "language": "python",
   "metadata": {
    "cocalc": {
     "description": "Python 3 programming language",
     "priority": 100,
     "url": "https://www.python.org/"
    }
   },
   "name": "python3",
   "resource_dir": "/ext/jupyter/kernels/python3"
  },
  "language_info": {
   "codemirror_mode": {
    "name": "ipython",
    "version": 3
   },
   "file_extension": ".py",
   "mimetype": "text/x-python",
   "name": "python",
   "nbconvert_exporter": "python",
   "pygments_lexer": "ipython3",
   "version": "3.8.5"
  }
 },
 "nbformat": 4,
 "nbformat_minor": 4
}