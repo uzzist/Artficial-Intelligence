{
 "cells": [
  {
   "cell_type": "markdown",
   "metadata": {},
   "source": [
    "# Filing in Python"
   ]
  },
  {
   "cell_type": "markdown",
   "metadata": {},
   "source": [
    "<p>\n",
    "  <br>Files are the resources that are used to store data permanently on non-volatile memory.\n",
    "</p>\n",
    "<p>\n",
    "  There are several operations which we daily do on the files. Files play an important role in different types of applications such as web applications.\n",
    "</p>\n",
    "<p>Python also enables us to perform different operations on the files.</p>\n",
    "<p>\n",
    "  Python provides several functions for reading, creating, updating, and\n",
    "  deleting a file.\n",
    "</p>\n",
    "<p>In python, the operations on files take place in the given below order.</p>\n",
    "<ul>\n",
    "  <li>Open a file</li>\n",
    "  <li>Read or write a file</li>\n",
    "  <li>Close a file</li>\n",
    "</ul>"
   ]
  },
  {
   "cell_type": "markdown",
   "metadata": {},
   "source": [
    "<p class=\"lead\">Opening of File</p>\n",
    "<p>\n",
    "  Python provides a built-in function for opening a file. The function is named\n",
    "  as open().\n",
    "</p>\n",
    "<p>\n",
    "  In this open() we pass the name or address of the file which we want to open\n",
    "  and this function returns the file object or file handle for further\n",
    "  operations.\n",
    "</p>\n",
    "<p>The example of the opening of a file is as follows.</p>\n",
    "<div class=\"alert alert-blue\" role=\"alert\">\n",
    "  <pre><code class=\"language-python\">F_Open = open(\"readme.txt\") # open file with the name \n",
    "FA_Open = open(\"C:/Python38/readme.txt\") # open file by specifying full path.</code></pre>\n",
    "</div>\n",
    "<p>In python, there are several modes to open a file are as follows.</p>\n",
    "<table class=\"table table-bordered\">\n",
    "  <tbody>\n",
    "    <tr>\n",
    "      <td style=\"text-align: center; \"><b>Specifier</b></td>\n",
    "      <td style=\"text-align: center; \"><b>Mode&nbsp;</b></td>\n",
    "    </tr>\n",
    "    <tr>\n",
    "      <td style=\"text-align: center; \">\"r\"</td>\n",
    "      <td style=\"text-align: center; \">Read&nbsp;</td>\n",
    "    </tr>\n",
    "    <tr>\n",
    "      <td style=\"text-align: center; \">\"a\"</td>\n",
    "      <td style=\"text-align: center; \">Append</td>\n",
    "    </tr>\n",
    "    <tr>\n",
    "      <td style=\"text-align: center; \">\"w\"</td>\n",
    "      <td style=\"text-align: center; \">Write</td>\n",
    "    </tr>\n",
    "    <tr>\n",
    "      <td style=\"text-align: center; \">\"x\"</td>\n",
    "      <td style=\"text-align: center; \">Create&nbsp;</td>\n",
    "    </tr>\n",
    "  </tbody>\n",
    "</table>"
   ]
  },
  {
   "cell_type": "markdown",
   "metadata": {},
   "source": [
    "<p class=\"lead\"><br>Read/Write a File</p>\n",
    "<p>\n",
    "  Python provides built-in functions for reading and writing a file that is\n",
    "  named as read() and write().\n",
    "</p>\n",
    "<p>\n",
    "  To read and write a file we have to open a file after that file object or\n",
    "  handle we can read and write a file.\n",
    "</p>\n",
    "<p>The example of the read and write a file is as follows.</p>"
   ]
  },
  {
   "cell_type": "code",
   "execution_count": 1,
   "metadata": {},
   "outputs": [
    {
     "name": "stdout",
     "output_type": "stream",
     "text": [
      "Hello World\n",
      "\n"
     ]
    }
   ],
   "source": [
    "F_Open = open(\"data.txt\",\"x\") # opening a file in write model.\n",
    "F_Open.write(\"Hello World\\n\") # writing on a file.\n",
    "F_Open.close()\n",
    "\n",
    "F_Open = open(\"data.txt\",\"r\")# opening a file in read model.\n",
    "print(F_Open.read()) # reading the file and printing the data of a file.\n",
    "F_Open.close()"
   ]
  },
  {
   "cell_type": "markdown",
   "metadata": {},
   "source": [
    "<p class=\"lead\">Closing a File</p>\n",
    "<p>\n",
    "  Python also provides a built-in function for closing a file that is named as\n",
    "  close().\n",
    "</p>\n",
    "<p>\n",
    "  This function closes the file and frees the resources that are used by the\n",
    "  files.\n",
    "</p>\n",
    "<p>The example of closing a file is as follows.</p>\n",
    "<p></p>"
   ]
  },
  {
   "cell_type": "code",
   "execution_count": null,
   "metadata": {},
   "outputs": [],
   "source": [
    "F_Open = open(\"data.txt\") # opening a file.\n",
    "# perform operations on a file.\n",
    "F_Open.close() # closing a file."
   ]
  },
  {
   "cell_type": "markdown",
   "metadata": {},
   "source": [
    "# Representation of Search Problem"
   ]
  },
  {
   "cell_type": "markdown",
   "metadata": {},
   "source": [
    "The problem-solving agent performs precisely by defining problems and its several solutions. The main components of problem formulation are as follows: \n",
    "- <b>Goal Formulation:</b> It organizes the steps/sequence required to formulate one goal out of multiple goals as well as actions to achieve that goal. Goal formulation is based on the current situation and the agent’s performance measure.\n",
    "- <b>Initial State:</b> It is the starting state or initial step of the agent towards its goal.\n",
    "- <b>Actions:</b> It is the description of the possible actions available to the agent.\n",
    "- <b>Transition Model:</b> It describes what each action does.\n",
    "- <b>Goal Test:</b> It determines if the given state is a goal state.\n",
    "- <b>Path cost:</b> It assigns a numeric cost to each path that follows the goal. The problem-solving agent selects a cost function, which reflects its performance measure. Remember, an optimal solution has the lowest path cost among all the solutions."
   ]
  },
  {
   "cell_type": "markdown",
   "metadata": {},
   "source": [
    "### Explicit Representation of the Search Grapgh"
   ]
  },
  {
   "cell_type": "markdown",
   "metadata": {},
   "source": [
    "The first representation of a search problem is from an explicit graph (as opposed to one that is generated as needed). An explicit graph consists of\n",
    "- a list or set of nodes \n",
    "- a list or set of arcs\n",
    "- a start node\n",
    "- list or set of goal nodes"
   ]
  },
  {
   "attachments": {
    "ab2a72e9-61f2-4fe0-9bb9-c8533968ffef.jpg": {
     "image/jpeg": "[encoded data removed]"
    }
   },
   "cell_type": "markdown",
   "metadata": {},
   "source": [
    "![ab2a72e9-61f2-4fe0-9bb9-c8533968ffef.jpg](attachment:ab2a72e9-61f2-4fe0-9bb9-c8533968ffef.jpg)"
   ]
  },
  {
   "cell_type": "code",
   "execution_count": 9,
   "metadata": {},
   "outputs": [
    {
     "name": "stdout",
     "output_type": "stream",
     "text": [
      "{'A': [('B', 5), ('D', 40)], 'B': [('C', 10)], 'C': [('B', 10), ('D', 10)]}\n"
     ]
    }
   ],
   "source": [
    "# Graph without weights \n",
    "MyGraph = {\n",
    "            'A':['B','D'],\n",
    "            'B':['C'],\n",
    "            'C':['B','D'],\n",
    "          }\n",
    "# Graph with weights \n",
    "MyGraph = {\n",
    "            'A':[('B',5),('D',40)],\n",
    "            'B':[('C',10)],\n",
    "            'C':[('B',10),('D',10)],\n",
    "          }\n",
    "print(MyGraph)"
   ]
  },
  {
   "cell_type": "code",
   "execution_count": 10,
   "metadata": {},
   "outputs": [
    {
     "name": "stdout",
     "output_type": "stream",
     "text": [
      "A  ->  B  edge weight:  5\n",
      "A  ->  D  edge weight:  40\n",
      "B  ->  C  edge weight:  10\n",
      "C  ->  B  edge weight:  10\n",
      "C  ->  D  edge weight:  10\n",
      "Internal representation:  {'A': [['B', 5], ['D', 40]], 'B': [['C', 10]], 'C': [['B', 10], ['D', 10]], 'D': []}\n"
     ]
    }
   ],
   "source": [
    "# Add a vertex to the dictionary\n",
    "def add_vertex(v):\n",
    "    global graph\n",
    "    global vertices_no\n",
    "    if v in graph:\n",
    "        print(\"Vertex \", v, \" already exists.\")\n",
    "    else:\n",
    "        vertices_no = vertices_no + 1\n",
    "        graph[v] = []\n",
    "\n",
    "# Add an edge between vertex v1 and v2 with edge weight e\n",
    "def add_edge(v1, v2, e):\n",
    "    global graph\n",
    "    # Check if vertex v1 is a valid vertex\n",
    "    if v1 not in graph:\n",
    "        print(\"Vertex \", v1, \" does not exist.\")\n",
    "        # Check if vertex v2 is a valid vertex\n",
    "    elif v2 not in graph:\n",
    "        print(\"Vertex \", v2, \" does not exist.\")\n",
    "    else:\n",
    "        # Since this code is not restricted to a directed or \n",
    "        # an undirected graph, an edge between v1 v2 does not\n",
    "        # imply that an edge exists between v2 and v1\n",
    "        temp = [v2, e]\n",
    "        graph[v1].append(temp)\n",
    "\n",
    "# Print the graph\n",
    "def print_graph():\n",
    "    global graph\n",
    "    for vertex in graph:\n",
    "        for edges in graph[vertex]:\n",
    "            print(vertex, \" -> \", edges[0], \" edge weight: \", edges[1])\n",
    "\n",
    "# driver code\n",
    "graph = {}\n",
    "# stores the number of vertices in the graph\n",
    "vertices_no = 0\n",
    "add_vertex('A')\n",
    "add_vertex('B')\n",
    "add_vertex('C')\n",
    "add_vertex('D')\n",
    "# Add the edges between the vertices by specifying\n",
    "# the from and to vertex along with the edge weights.\n",
    "add_edge('A', 'B', 5)\n",
    "add_edge('A', 'D', 40)\n",
    "add_edge('B', 'C', 10)\n",
    "add_edge('C', 'B', 10)\n",
    "add_edge('C', 'D', 10)\n",
    "print_graph()\n",
    "# Reminder: the second element of each list inside the dictionary\n",
    "# denotes the edge weight.\n",
    "print (\"Internal representation: \", graph)"
   ]
  },
  {
   "cell_type": "code",
   "execution_count": null,
   "metadata": {},
   "outputs": [],
   "source": []
  }
 ],
 "metadata": {
  "kernelspec": {
   "display_name": "Python 3",
   "language": "python",
   "name": "python3"
  },
  "language_info": {
   "codemirror_mode": {
    "name": "ipython",
    "version": 3
   },
   "file_extension": ".py",
   "mimetype": "text/x-python",
   "name": "python",
   "nbconvert_exporter": "python",
   "pygments_lexer": "ipython3",
   "version": "3.8.3"
  }
 },
 "nbformat": 4,
 "nbformat_minor": 4
}
