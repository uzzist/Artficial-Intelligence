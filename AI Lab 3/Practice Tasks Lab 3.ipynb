{
 "cells": [
  {
   "cell_type": "markdown",
   "metadata": {
    "collapsed": false
   },
   "source": [
    "Create a stack called magazine, and  add bullets in it and after every bullet shot display the status of the magazine."
   ]
  },
  {
   "cell_type": "code",
   "execution_count": 1,
   "metadata": {
    "collapsed": false
   },
   "outputs": [
    {
     "name": "stdout",
     "output_type": "stream",
     "text": [
      "4 bullets remaining in the magazine\n",
      "3 bullets remaining in the magazine\n",
      "2 bullets remaining in the magazine\n",
      "1 bullets remaining in the magazine\n",
      "0 bullets remaining in the magazine\n"
     ]
    }
   ],
   "source": [
    "magazine = list()\n",
    "trigger = True\n",
    "shot = False\n",
    "magazine.append(\"bullet1\")\n",
    "magazine.append(\"bullet2\")\n",
    "magazine.append(\"bullet3\")\n",
    "magazine.append(\"bullet4\")\n",
    "magazine.append(\"bullet5\")\n",
    "while(len(magazine) != 0):\n",
    "    if(trigger):\n",
    "        shot = True\n",
    "        if(shot):\n",
    "            magazine.pop()\n",
    "            print(len(magazine),\"bullets remaining in the magazine\")\n",
    "            shot = False"
   ]
  },
  {
   "cell_type": "markdown",
   "metadata": {
    "collapsed": false
   },
   "source": [
    "Create a queue and insert numbers in it and pop only that two number that have highest product."
   ]
  },
  {
   "cell_type": "code",
   "execution_count": 7,
   "metadata": {
    "collapsed": false
   },
   "outputs": [
    {
     "name": "stdout",
     "output_type": "stream",
     "text": [
      "9 and 8 have the highest product\n"
     ]
    }
   ],
   "source": [
    "myQueue = list()\n",
    "myQueue.append(3)\n",
    "myQueue.append(6)\n",
    "myQueue.append(1)\n",
    "myQueue.append(5)\n",
    "myQueue.append(2)\n",
    "myQueue.append(9)\n",
    "myQueue.append(7)\n",
    "myQueue.append(8)\n",
    "index1 = 0\n",
    "index2 = 0\n",
    "max = myQueue[0]*myQueue[1]\n",
    "for i in range(0,len(myQueue)):\n",
    "    for j in range(0,len(myQueue)):\n",
    "        if((myQueue[i]*myQueue[j]) > max and i != j):\n",
    "            max = myQueue[i]*myQueue[j]\n",
    "            index1 = i\n",
    "            index2 = j\n",
    "value1 = myQueue.pop(index1)\n",
    "value2 = myQueue.pop(index2-1)\n",
    "print(value1,\"and\",value2,\"have the highest product\")"
   ]
  },
  {
   "cell_type": "markdown",
   "metadata": {
    "collapsed": false
   },
   "source": [
    "Create a doubly linked list."
   ]
  },
  {
   "cell_type": "code",
   "execution_count": 14,
   "metadata": {
    "collapsed": false
   },
   "outputs": [
    {
     "name": "stdout",
     "output_type": "stream",
     "text": [
      "4 3 6 9 5 \n",
      "After removing: \n",
      "4 3 6 5 "
     ]
    }
   ],
   "source": [
    "class Node:\n",
    "    def __init__(self,data=None):\n",
    "        self.next = None\n",
    "        self.previous = None\n",
    "        self.data = data\n",
    "class doublyLinkedList:\n",
    "    def __init__(self):\n",
    "        self.head = None\n",
    "    def insert(self,data):\n",
    "        newNode = Node(data)\n",
    "        newNode.next = None\n",
    "        newNode.previous = None\n",
    "        if(self.head == None):\n",
    "            self.head = newNode\n",
    "        else:\n",
    "            current = self.head\n",
    "            while(current.next):\n",
    "                current = current.next\n",
    "            current.next = newNode\n",
    "            newNode.previous = current\n",
    "    def remove(self,data):\n",
    "        current = self.head\n",
    "        if(data == current.data):\n",
    "            self.head = current.next\n",
    "            self.head.previous = None\n",
    "            current = None\n",
    "        else:\n",
    "            current = self.head\n",
    "            while(current):\n",
    "                if(current.data == data):\n",
    "                    temp1 = current.previous\n",
    "                    temp2 = current.next\n",
    "                    temp1.next = temp2\n",
    "                    temp2.previous = temp1\n",
    "                    current = None\n",
    "                    break\n",
    "                else:\n",
    "                    current = current.next\n",
    "    def print(self):\n",
    "        current = self.head\n",
    "        while(current):\n",
    "            print(current.data,\"\",end=\"\")\n",
    "            current = current.next\n",
    "obj = doublyLinkedList()\n",
    "obj.insert(4)\n",
    "obj.insert(3)\n",
    "obj.insert(6)\n",
    "obj.insert(9)\n",
    "obj.insert(5)\n",
    "obj.print()\n",
    "obj.remove(9)\n",
    "print(\"\\nAfter removing: \")\n",
    "obj.print()"
   ]
  },
  {
   "cell_type": "markdown",
   "metadata": {
    "collapsed": false
   },
   "source": [
    "Create a tree and add values to it and after that traverse it in such a way that first you will print leafs and then thier parents and so on."
   ]
  },
  {
   "cell_type": "code",
   "execution_count": 5,
   "metadata": {
    "collapsed": false
   },
   "outputs": [
    {
     "name": "stdout",
     "output_type": "stream",
     "text": [
      "60\n",
      "80\n",
      "70\n",
      "40\n",
      "30\n",
      "20\n",
      "10\n"
     ]
    }
   ],
   "source": [
    "class Node:\n",
    "    def __init__(self, Value):\n",
    "        self.Left = None\n",
    "        self.Data = Value\n",
    "        self.Right = None\n",
    "class Tree:\n",
    "    def CreateNode(self, Data):\n",
    "        return Node(Data)\n",
    "    def Insert(self,Node,Data):\n",
    "        if Node is None:\n",
    "            return self.CreateNode(Data)\n",
    "        if Data < Node.Data:\n",
    "            Node.Left = self.Insert(Node.Left, Data)\n",
    "        elif Data > Node.Data:\n",
    "            Node.Right = self.Insert(Node.Right, Data)\n",
    "        return Node\n",
    "    def Treeprint(self, Root):\n",
    "        if Root is not None:\n",
    "            self.Treeprint(Root.Left)\n",
    "            self.Treeprint(Root.Right)\n",
    "            print(Root.Data)\n",
    "Root = None\n",
    "MyTree = Tree()\n",
    "Root = MyTree.Insert(Root, 10)\n",
    "MyTree.Insert(Root, 20)\n",
    "MyTree.Insert(Root, 30)\n",
    "MyTree.Insert(Root, 40)\n",
    "MyTree.Insert(Root, 70)\n",
    "MyTree.Insert(Root, 60)\n",
    "MyTree.Insert(Root, 80)\n",
    "MyTree.Treeprint(Root)"
   ]
  },
  {
   "cell_type": "markdown",
   "metadata": {
    "collapsed": false
   },
   "source": [
    "Create a grapgh and check that which edge has a common vertices"
   ]
  },
  {
   "cell_type": "code",
   "execution_count": 2,
   "metadata": {
    "collapsed": false
   },
   "outputs": [
    {
     "name": "stdout",
     "output_type": "stream",
     "text": [
      "{'a': ['b', 'c'], 'b': ['a', 'd'], 'c': ['a', 'd'], 'd': ['e'], 'e': ['d']}\n"
     ]
    }
   ],
   "source": [
    "myGraph = {\"a\" : [\"b\",\"c\"],\n",
    " \"b\" : [\"a\", \"d\"],\n",
    " \"c\" : [\"a\", \"d\"],\n",
    " \"d\" : [\"e\"],\n",
    " \"e\" : [\"d\"]}\n",
    "print(myGraph)"
   ]
  },
  {
   "cell_type": "markdown",
   "metadata": {
    "collapsed": false
   },
   "source": [
    "Create a hash table and sort it according to its keys."
   ]
  },
  {
   "cell_type": "code",
   "execution_count": 1,
   "metadata": {
    "collapsed": false
   },
   "outputs": [
    {
     "name": "stdout",
     "output_type": "stream",
     "text": [
      "[('age', 22), ('name', 'Uzair'), ('semester', 6)]\n"
     ]
    }
   ],
   "source": [
    "myHashTable = {\"name\":\"Uzair\",\"age\":22,\"semester\":6}\n",
    "keys = myHashTable.items()\n",
    "sortedHashTable = sorted(keys)\n",
    "print(sortedHashTable)"
   ]
  },
  {
   "cell_type": "code",
   "execution_count": 0,
   "metadata": {
    "collapsed": false
   },
   "outputs": [
   ],
   "source": [
   ]
  }
 ],
 "metadata": {
  "kernelspec": {
   "display_name": "Python 3 (system-wide)",
   "language": "python",
   "metadata": {
    "cocalc": {
     "description": "Python 3 programming language",
     "priority": 100,
     "url": "https://www.python.org/"
    }
   },
   "name": "python3",
   "resource_dir": "/ext/jupyter/kernels/python3"
  },
  "language_info": {
   "codemirror_mode": {
    "name": "ipython",
    "version": 3
   },
   "file_extension": ".py",
   "mimetype": "text/x-python",
   "name": "python",
   "nbconvert_exporter": "python",
   "pygments_lexer": "ipython3",
   "version": "3.8.5"
  }
 },
 "nbformat": 4,
 "nbformat_minor": 4
}